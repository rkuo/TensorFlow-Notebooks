{
 "cells": [
  {
   "cell_type": "markdown",
   "metadata": {},
   "source": [
    "# Tensorflow"
   ]
  },
  {
   "cell_type": "markdown",
   "metadata": {},
   "source": [
    "\n",
    "## For Mac host installaion\n",
    "* install Anaconda\n",
    "\n",
    "\n",
    "## For Docker installation\n"
   ]
  },
  {
   "cell_type": "markdown",
   "metadata": {},
   "source": [
    "### Test installation\n",
    "* start python3 notebook"
   ]
  },
  {
   "cell_type": "code",
   "execution_count": 3,
   "metadata": {
    "collapsed": false
   },
   "outputs": [
    {
     "name": "stdout",
     "output_type": "stream",
     "text": [
      "0.8.0\n"
     ]
    }
   ],
   "source": [
    "import tensorflow; \n",
    "print(tensorflow.__version__)"
   ]
  },
  {
   "cell_type": "markdown",
   "metadata": {},
   "source": [
    "## Iris Example \n",
    "Iris dataset is included in scikit-learn package. We can just load it. code is [here][3], [video][4]\n",
    "\n",
    "[3]: https://github.com/tensorflow/tensorflow/blob/master/tensorflow/contrib/learn/python/learn/README.md\n",
    "[4]: https://www.youtube.com/watch?v=2FOXR16mLow"
   ]
  },
  {
   "cell_type": "code",
   "execution_count": 9,
   "metadata": {
    "collapsed": false
   },
   "outputs": [],
   "source": [
    "import tensorflow.contrib.learn as skflow\n",
    "from sklearn import datasets, metrics\n",
    "\n",
    "iris = datasets.load_iris()"
   ]
  },
  {
   "cell_type": "markdown",
   "metadata": {},
   "source": [
    "#### 1-Collect Dataset\n",
    "\n",
    "The iris can be classified by its Sepal length and width, and Petal length and width. They are called \"feature\". Those features are simple, independent and informative.\n",
    "\n",
    "This dataset has a labeled column to identify its species. We call this type of training \"supervised training\". See [wikipedia iris page][1] for detailed description.\n",
    "\n",
    "[1]: https://en.wikipedia.org/wiki/Iris_flower_data_set"
   ]
  },
  {
   "cell_type": "markdown",
   "metadata": {},
   "source": [
    "#### 2-Pick the Model\n",
    "We can get some idea from scikit-learn cheat sheet.  \n",
    "![scikit-learn cheat sheet][2]\n",
    "\n",
    "There are many classifiers in this diagram. If you have a lot data, Neural Network can out perform any other methods for various areas. Since we only have 150 records, we will use linear classifier and set number of class = 3.\n",
    "\n",
    "[2]: http://scikit-learn.org/stable/_static/ml_map.png"
   ]
  },
  {
   "cell_type": "code",
   "execution_count": 18,
   "metadata": {
    "collapsed": true
   },
   "outputs": [],
   "source": [
    "classifier = skflow.TensorFlowLinearClassifier(n_classes=3)"
   ]
  },
  {
   "cell_type": "markdown",
   "metadata": {},
   "source": [
    "We can easily switch out the model, for example, Neural Network model."
   ]
  },
  {
   "cell_type": "code",
   "execution_count": 19,
   "metadata": {
    "collapsed": true
   },
   "outputs": [],
   "source": [
    "# Comment it out first-use a  deep neural network (DNN) is an artificial neural network (ANN) with multiple hidden layers of units between the input and output layers. \n",
    "# classifier = skflow.TensorFlowDNNClassifier(hidden_units=[10, 20, 10], n_classes=3)"
   ]
  },
  {
   "cell_type": "markdown",
   "metadata": {},
   "source": [
    "#### 3-Train the Model\n",
    "We can use `fit` to train our model. "
   ]
  },
  {
   "cell_type": "code",
   "execution_count": 23,
   "metadata": {
    "collapsed": false
   },
   "outputs": [
    {
     "name": "stdout",
     "output_type": "stream",
     "text": [
      "Step #100, epoch #20, avg. train loss: 0.56387\n",
      "Step #200, epoch #40, avg. train loss: 0.39505\n",
      "Accuracy: 0.973333\n"
     ]
    }
   ],
   "source": [
    "classifier.fit(iris.data, iris.target)\n",
    "score=metrics.accuracy_score(iris.target, classifier.predict(iris.data))\n",
    "print(\"Accuracy: %f\" % score)"
   ]
  },
  {
   "cell_type": "code",
   "execution_count": null,
   "metadata": {
    "collapsed": true
   },
   "outputs": [],
   "source": []
  }
 ],
 "metadata": {
  "kernelspec": {
   "display_name": "Python 3",
   "language": "python",
   "name": "python3"
  },
  "language_info": {
   "codemirror_mode": {
    "name": "ipython",
    "version": 3
   },
   "file_extension": ".py",
   "mimetype": "text/x-python",
   "name": "python",
   "nbconvert_exporter": "python",
   "pygments_lexer": "ipython3",
   "version": "3.5.1"
  }
 },
 "nbformat": 4,
 "nbformat_minor": 0
}
