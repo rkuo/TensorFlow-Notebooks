{
 "cells": [
  {
   "cell_type": "markdown",
   "metadata": {},
   "source": [
    "# TensorBoard Basic\n",
    "To learn how to use TensorBoard, based on [notes][1]\n",
    "\n",
    "[1]:https://github.com/fluxcapacitor/pipeline/blob/master/myapps/jupyter/TensorFlow/Fundamentals/TensorFlow%20Fundamentals.ipynb"
   ]
  },
  {
   "cell_type": "code",
   "execution_count": null,
   "metadata": {
    "collapsed": true
   },
   "outputs": [],
   "source": [
    "# TensorBoard Helper Functions and Constants\n",
    "\n",
    "# Directory to export TensorBoard summary statistics, graph data, etc.\n",
    "TB_DIR = '/tmp/tensorboard/helloworld'\n",
    "\n",
    "\n",
    "def _start_tb(d):\n",
    "    \"\"\"\n",
    "    Private function that calls `tensorboard` shell command\n",
    "    \n",
    "    args:\n",
    "      d: The desired directory to launch in TensorBoard\n",
    "    \"\"\"\n",
    "    !tensorboard --port=6006 --logdir=$d\n",
    "\n",
    "def start_tensorboard():\n",
    "    \"\"\"\n",
    "    Starts TensorBoard from the notebook in a separate thread.\n",
    "    Prevents Jupyter Notebook from halting while TensorBoard runs.\n",
    "    \"\"\"\n",
    "    import threading\n",
    "    threading.Thread(target=_start_tb, args=(TB_DIR,)).start()\n",
    "    del threading\n",
    "\n",
    "def stop_tensorboard():\n",
    "    \"\"\"\n",
    "    Kills all TensorBoard processes\n",
    "    \"\"\"\n",
    "    !ps -aef | grep \"tensorboard\" | tr -s ' ' | cut -d ' ' -f2 | xargs kill -KILL\n",
    "    \n",
    "def reset_tensorboard():\n",
    "    stop_tensorboard()\n",
    "    start_tensorboard()"
   ]
  },
  {
   "cell_type": "code",
   "execution_count": null,
   "metadata": {
    "collapsed": true
   },
   "outputs": [],
   "source": [
    "# Import core TensorFlow libraries\n",
    "import tensorflow as tf\n",
    "import numpy as np"
   ]
  },
  {
   "cell_type": "markdown",
   "metadata": {},
   "source": [
    "## The first graph for TensorFlow\n",
    "* nodes represent computation\n",
    "* links represent data flow, which can have n-diamension, 0=scale, 1=vector, 2=matrix.\n",
    "\n",
    "TensorFlow provides a placeholder operation that must be fed with data on execution. See [doc][1] for details. We can set default value for placeholder too.\n",
    "\n",
    "[1]: https://www.tensorflow.org/versions/r0.9/api_docs/python/io_ops.html\n"
   ]
  },
  {
   "cell_type": "markdown",
   "metadata": {},
   "source": [
    "### 1-Define a Computational Graph"
   ]
  },
  {
   "cell_type": "code",
   "execution_count": null,
   "metadata": {
    "collapsed": true
   },
   "outputs": [],
   "source": [
    "# `tf.placeholder` creates an \"input\" node- we will give it value when we run our model\n",
    "\n",
    "a = tf.placeholder(tf.int32, name=\"input_a\")\n",
    "b = tf.placeholder(tf.int32, name=\"input_b\") \n",
    "\n",
    "# there are two nodes, named input_a and input_b, datatype is int32. They will be represented by a and b objects."
   ]
  },
  {
   "cell_type": "code",
   "execution_count": null,
   "metadata": {
    "collapsed": true
   },
   "outputs": [],
   "source": [
    "# `tf.add` is operation \"add\", and we call/name the node \"add\", may be using \"plus\" maybe better\n",
    "c = tf.add(a, b, name=\"add\")   # this give us c = a + b"
   ]
  },
  {
   "cell_type": "code",
   "execution_count": null,
   "metadata": {
    "collapsed": true
   },
   "outputs": [],
   "source": [
    "# `tf.mul` creates a multiplication node\n",
    "d = tf.mul(a, b, name=\"multiply\")   # this gives us d = a * b"
   ]
  },
  {
   "cell_type": "code",
   "execution_count": null,
   "metadata": {
    "collapsed": true
   },
   "outputs": [],
   "source": [
    "# Add up the results of the previous two nodes\n",
    "out = tf.add(c, d, name=\"output\")   # this gives us "
   ]
  },
  {
   "cell_type": "code",
   "execution_count": null,
   "metadata": {
    "collapsed": true
   },
   "outputs": [],
   "source": [
    "# OPTIONAL\n",
    "# Create a scalar summary, which will log the value we tell it to when executed\n",
    "# In this case, we'll tell it to save our output value from `out`\n",
    "# This works in tandem with our SummaryWriter below\n",
    "# To create the summary, we pass in two parameters:\n",
    "# 1. A 'tag', which gives a label to the data\n",
    "# 2. The value(s) we'd like to save\n",
    "# We also give a `name` to the summary itself (does not affect behavior)\n",
    "out_summary = tf.scalar_summary(\"output\", out, name=\"output_summary\")"
   ]
  },
  {
   "cell_type": "markdown",
   "metadata": {},
   "source": [
    "### 2-Run the Graph\n",
    "* Start a tf.Session to launch the graph\n",
    "* Setup any necessary input values\n",
    "* Use a tf.train.SummaryWriter to write information for TensorBoard (Recommended)\n",
    "* Use Session.run() to compute values from the graph\n"
   ]
  },
  {
   "cell_type": "code",
   "execution_count": null,
   "metadata": {
    "collapsed": true
   },
   "outputs": [],
   "source": [
    "# Start a session\n",
    "sess = tf.Session()"
   ]
  },
  {
   "cell_type": "code",
   "execution_count": null,
   "metadata": {
    "collapsed": true
   },
   "outputs": [],
   "source": [
    "# Create a \"feed_dict\" dictionary to define input values\n",
    "# Keys to dictionary are handles to our placeholders\n",
    "# Values to dictionary are values we'd like to feed in\n",
    "feed_dict = { a: 4, b: 3 }"
   ]
  },
  {
   "cell_type": "code",
   "execution_count": null,
   "metadata": {
    "collapsed": true
   },
   "outputs": [],
   "source": [
    "# OPTIONAL\n",
    "# Opens a `SummaryWriter` object, which can write stats about the graph to disk\n",
    "# We pass in two parameters into the SummaryWriter constructor\n",
    "# The first is a string, specifies a directory to write to. \n",
    "#   (Note: `TB_DIR` was specified earlier. \"TB\" stands for TensorBoard\n",
    "# The second parameter passes in our graph. This allows us to visualize our graph later\n",
    "writer = tf.train.SummaryWriter(TB_DIR, graph=sess.graph)"
   ]
  },
  {
   "cell_type": "code",
   "execution_count": null,
   "metadata": {
    "collapsed": false
   },
   "outputs": [],
   "source": [
    "# Execute the graph using `sess.run()`, passing in two parameters:\n",
    "# The first parameter, `fetches` lists which node(s) we'd like to receive as output\n",
    "# The second parameter, `feed_dict`, feeds in key-value pairs \n",
    "#   to input or override the value of nodes\n",
    "# In this case, we run both the output value, as well as its scalar summary\n",
    "result, summary = sess.run([out, out_summary], feed_dict=feed_dict)\n",
    "\n",
    "# Print output with fun formatting\n",
    "print(\"(({0}*{1}) + ({0}+{1})) = \".format(feed_dict[a], feed_dict[b]) + str(result))"
   ]
  },
  {
   "cell_type": "code",
   "execution_count": null,
   "metadata": {
    "collapsed": true
   },
   "outputs": [],
   "source": [
    "# We add the summary to our SummaryWriter, which writes the data to disk:\n",
    "# Normally, these summaries are used to generate statistics over time\n",
    "# TensorBoard doesn't do well visualizing single points, so we fake a \"global_step\"\n",
    "# With two points, it will generate a line\n",
    "writer.add_summary(summary, global_step=0)\n",
    "writer.add_summary(summary, global_step=100)"
   ]
  },
  {
   "cell_type": "code",
   "execution_count": null,
   "metadata": {
    "collapsed": true
   },
   "outputs": [],
   "source": [
    "# We're done! Close down our Session and SummaryWriter to tidy up.\n",
    "sess.close()\n",
    "writer.close()"
   ]
  },
  {
   "cell_type": "markdown",
   "metadata": {},
   "source": [
    "### 3-Visualize with Tensorboard"
   ]
  },
  {
   "cell_type": "code",
   "execution_count": null,
   "metadata": {
    "collapsed": false
   },
   "outputs": [],
   "source": [
    "# Start TensorBoard\n",
    "start_tensorboard()"
   ]
  },
  {
   "cell_type": "code",
   "execution_count": null,
   "metadata": {
    "collapsed": false
   },
   "outputs": [],
   "source": [
    "# Once you are done, stop TensorBoard\n",
    "\n",
    "# stop_tensorboard()"
   ]
  },
  {
   "cell_type": "code",
   "execution_count": null,
   "metadata": {
    "collapsed": true
   },
   "outputs": [],
   "source": []
  }
 ],
 "metadata": {
  "kernelspec": {
   "display_name": "Python 3",
   "language": "python",
   "name": "python3"
  },
  "language_info": {
   "codemirror_mode": {
    "name": "ipython",
    "version": 3
   },
   "file_extension": ".py",
   "mimetype": "text/x-python",
   "name": "python",
   "nbconvert_exporter": "python",
   "pygments_lexer": "ipython3",
   "version": "3.5.1"
  }
 },
 "nbformat": 4,
 "nbformat_minor": 0
}
